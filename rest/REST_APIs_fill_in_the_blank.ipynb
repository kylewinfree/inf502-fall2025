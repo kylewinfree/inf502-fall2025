{
  "nbformat": 4,
  "nbformat_minor": 0,
  "metadata": {
    "colab": {
      "provenance": [],
      "authorship_tag": "ABX9TyOgKme6B9L53BCP6yNXjiqx",
      "include_colab_link": true
    },
    "kernelspec": {
      "name": "python3",
      "display_name": "Python 3"
    },
    "language_info": {
      "name": "python"
    }
  },
  "cells": [
    {
      "cell_type": "markdown",
      "metadata": {
        "id": "view-in-github",
        "colab_type": "text"
      },
      "source": [
        "<a href=\"https://colab.research.google.com/github/kylewinfree/inf502-fall2025/blob/main/rest/REST_APIs_fill_in_the_blank.ipynb\" target=\"_parent\"><img src=\"https://colab.research.google.com/assets/colab-badge.svg\" alt=\"Open In Colab\"/></a>"
      ]
    },
    {
      "cell_type": "markdown",
      "source": [
        "# Using REST APIs as data sources\n",
        "\n",
        "REST API stands for Representational State Transfer Application Programming Interface. It is a type of API that allows different systems to communicate over the internet using standard HTTP methods.\n",
        "\n",
        "* Data is everywhere and it is generated constantly\n",
        "* The number of data sources is amazingly huge\n",
        "* Datasets are huge and can be used in many ways\n",
        "\n",
        "* We may do amazing things using data made available by third-party:\n",
        "    - https://developer.walmartlabs.com/docs\n",
        "    - https://developer.spotify.com/documentation/web-api/\n",
        "    - https://earthquake.usgs.gov/fdsnws/event/1/\n",
        "    \n",
        "    \n",
        "We will have a nice and brief overview about how to consume data from REST APIs, mainly focusing on **JSON**."
      ],
      "metadata": {
        "id": "BeqOVLQia3cu"
      }
    },
    {
      "cell_type": "markdown",
      "source": [
        "### What is an API?\n",
        "\n",
        "**Application Programming Interface** defines the methods for one software program to interact with the other.\n",
        "\n",
        "In the case of this lecture, we are dealing with a REST API, which sends data over a network: one type of Web service.\n",
        "\n",
        "When we want to receive data from an Web service, we need to make a `request` to this service. When the server receives this request, it sends a `response`.\n",
        "\n",
        "![request.png](https://github.com/kylewinfree/inf502-fall2025/blob/main/rest/request.png?raw=1)"
      ],
      "metadata": {
        "id": "h05QiHy0a_XB"
      }
    },
    {
      "cell_type": "markdown",
      "source": [
        "There are different types of requests.\n",
        "\n",
        "In our case we will use a `GET`, which is used to retrieve data. This is the type of request we use to collect data.\n",
        "\n",
        "A response from the API contains 2 things (among others):\n",
        "* response code\n",
        "* response data\n",
        "\n",
        "To make a request, we use:"
      ],
      "metadata": {
        "id": "rpYAE5wlbCX-"
      }
    },
    {
      "cell_type": "code",
      "execution_count": null,
      "metadata": {
        "id": "VWf4LDQlayWR"
      },
      "outputs": [],
      "source": [
        "response = requests.get('http://www.nau.edu/')\n",
        "type(response)"
      ]
    },
    {
      "cell_type": "markdown",
      "source": [
        "The `request.get(URL)` returns an object Response, which provides, among other things, the response code."
      ],
      "metadata": {
        "id": "3gS0sRCwbOAt"
      }
    },
    {
      "cell_type": "code",
      "source": [
        "response.status_code"
      ],
      "metadata": {
        "id": "VPi3aJnybObZ"
      },
      "execution_count": null,
      "outputs": []
    },
    {
      "cell_type": "markdown",
      "source": [
        "The most common codes are:\n",
        "* 200: Everything went okay, and the result has been returned (if any).\n",
        "* 301: The server is redirecting you to a different endpoint. This can happen when a company switches domain names, or an endpoint name is changed.\n",
        "* 400: The server thinks you made a bad request. This can happen when you don’t send along the right data, among other things.\n",
        "* 401: The server thinks you’re not authenticated. Many APIs require login ccredentials, so this happens when you don’t send the right credentials to access an API.\n",
        "* 403: The resource you’re trying to access is forbidden: you don’t have the right permissions to see it.\n",
        "* 404: The resource you tried to access wasn’t found on the server.\n",
        "* 503: The server is not ready to handle the request.\n",
        "\n",
        "More details about status codes list can be found [here](https://developer.mozilla.org/en-US/docs/Web/HTTP/Status)"
      ],
      "metadata": {
        "id": "wb4gaGb9bQUn"
      }
    },
    {
      "cell_type": "markdown",
      "source": [
        "### What about getting the data?\n",
        "\n",
        "First, read the documentation! Everytime you use an API, please read the documentation to understand how to use, the structure, etc.\n",
        "\n",
        "We will use the [Open Notify API](http://api.open-notify.org/), which gives access to data about the international space station.\n",
        "\n",
        "These APIs usually provide multiple endpoints, which are the ways we can interact with that service.\n",
        "\n",
        "Let's try a request and see how it goes:"
      ],
      "metadata": {
        "id": "34lm6MogbWiS"
      }
    },
    {
      "cell_type": "code",
      "source": [
        "response = requests.get(\"http://api.open-notify.org/astros.json\")\n",
        "print(response.status_code)"
      ],
      "metadata": {
        "id": "xNXVtLmrbSaW"
      },
      "execution_count": null,
      "outputs": []
    },
    {
      "cell_type": "code",
      "source": [
        "type(response.content)"
      ],
      "metadata": {
        "id": "t71BItItbgcZ"
      },
      "execution_count": null,
      "outputs": []
    },
    {
      "cell_type": "code",
      "source": [
        "response.text"
      ],
      "metadata": {
        "id": "9lWJ2FUHbjYn"
      },
      "execution_count": null,
      "outputs": []
    },
    {
      "cell_type": "code",
      "source": [
        "response.json()"
      ],
      "metadata": {
        "id": "ZUm-jpyvblHA"
      },
      "execution_count": null,
      "outputs": []
    },
    {
      "cell_type": "markdown",
      "source": [
        "### Working with JSON\n",
        "JSON stands for JavaScript Object Notation. It is a way to encode data structures that ensures that they are easily readable.\n",
        "\n",
        "JSON output look like Python something with *dictionaries, lists, strings* and *integers*. And it is...\n",
        "\n",
        "But, how to use it? Well, we used it in the last command.\n"
      ],
      "metadata": {
        "id": "Iqfa2Nmybm8t"
      }
    },
    {
      "cell_type": "code",
      "source": [
        "import json"
      ],
      "metadata": {
        "id": "vEIVv8jfbnie"
      },
      "execution_count": null,
      "outputs": []
    },
    {
      "cell_type": "markdown",
      "source": [
        "json has two main functions:\n",
        "\n",
        "* `json.dumps()` — Takes in a Python object and converts (dumps) to a string.\n",
        "* `json.loads()` — Takes a JSON string and converts (loads) to a Python object.\n",
        "\n",
        "The `dumps()` is particularly useful as we can use it to format the json, making it easier to understand the output"
      ],
      "metadata": {
        "id": "S7PHrrzjbrYG"
      }
    },
    {
      "cell_type": "code",
      "source": [
        "json_response = response.json()\n",
        "formatted_json = json.dumps(json_response, sort_keys=True, indent=3) # indent is the number of spaces when making pretty\n",
        "\n",
        "print(formatted_json)"
      ],
      "metadata": {
        "id": "Y3URKzDFbrr5"
      },
      "execution_count": null,
      "outputs": []
    },
    {
      "cell_type": "markdown",
      "source": [
        "### REST API with Query Parameters\n",
        "In some cases, it is possible to pass parameters to filter the output of the API.\n",
        "\n",
        "The https://earthquake.usgs.gov/fdsnws/event/1/query endpoint tells what are the earthquakes given a set of parameters. For example time, location, etc.\n",
        "More information here:\n",
        "https://earthquake.usgs.gov/fdsnws/event/1/#parameters  \n",
        "\n",
        "In the example below, we show the earthquakes in January 2022 (`starttime` and `endtime`), with magnitude between 6 and 7 (`minmagnitude` and `maxmagnitude`).\n",
        "\n"
      ],
      "metadata": {
        "id": "PaYMQWf7cRRo"
      }
    },
    {
      "cell_type": "code",
      "source": [
        "import requests\n",
        "import json\n",
        "from datetime import datetime\n",
        "# let's look at how this query is structured, and the output\n",
        "response = requests.get(\"https://earthquake.usgs.gov/fdsnws/event/1/query?format=geojson&starttime=2022-01-01&endtime=2022-01-31&maxmagnitude=7&minmagnitude=6\")\n",
        "json_response = response.json()\n",
        "formatted_json = json.dumps(json_response, sort_keys=False, indent=2)\n",
        "\n",
        "print(formatted_json)"
      ],
      "metadata": {
        "id": "ew3OcnudcR3L"
      },
      "execution_count": null,
      "outputs": []
    },
    {
      "cell_type": "markdown",
      "source": [
        "#### Let's be a little more selective now.\n",
        "- go find the documentation, figure out how to specifiy a location\n",
        "- pick a place, such as Alaksa, and define the region\n",
        "- run it again!\n",
        "https://www.mapsofworld.com/usa/states/alaska/lat-long.html"
      ],
      "metadata": {
        "id": "CN97TJOCcgkg"
      }
    },
    {
      "cell_type": "code",
      "source": [
        "response = requests.get(\"https://earthquake.usgs.gov/fdsnws/event/1/query?format=geojson ... \")\n",
        "json_response = response.json()\n",
        "formatted_json = json.dumps(json_response, sort_keys=False, indent=2)"
      ],
      "metadata": {
        "id": "CSWlPUZ1cwC5"
      },
      "execution_count": null,
      "outputs": []
    },
    {
      "cell_type": "markdown",
      "source": [
        "#### Getting what we need...\n",
        "Now, we will *print the place, date, and magnitude of each of them*\n",
        "\n",
        "Here is what we used:\n",
        "```json\n",
        "\"features\": [\n",
        "    {\n",
        "      \"type\": \"Feature\",\n",
        "      \"properties\": {\n",
        "        \"mag\": 6.2,\n",
        "        \"place\": \"66 km E of Hualien City, Taiwan\",\n",
        "        \"time\": 1641203195767,\n",
        "...\n",
        "```"
      ],
      "metadata": {
        "id": "psF7jbG4c58n"
      }
    },
    {
      "cell_type": "markdown",
      "source": [
        "You've already worked with iteration, let's use that with our json.  We want to to iterate through each earthquake observation, print some stuff, and at the end, print the maximum magnitude.  I'll get you started..."
      ],
      "metadata": {
        "id": "G7qvmrzAdtxz"
      }
    },
    {
      "cell_type": "code",
      "source": [
        "max_magnitude = 0\n",
        "\n",
        "for earthquake in json_response[\"features\"]:\n",
        "  # get the magnitude\n",
        "\n",
        "  # print some stuff\n",
        "\n",
        "  # update our max on record as needed\n",
        "\n",
        "# print the max"
      ],
      "metadata": {
        "id": "TQmsVdE7c62z"
      },
      "execution_count": null,
      "outputs": []
    }
  ]
}