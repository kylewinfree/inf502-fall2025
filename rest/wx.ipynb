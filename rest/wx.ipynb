{
  "nbformat": 4,
  "nbformat_minor": 0,
  "metadata": {
    "colab": {
      "provenance": [],
      "authorship_tag": "ABX9TyPmAwM9+9vtRPZrJ9nv4Kzk",
      "include_colab_link": true
    },
    "kernelspec": {
      "name": "python3",
      "display_name": "Python 3"
    },
    "language_info": {
      "name": "python"
    }
  },
  "cells": [
    {
      "cell_type": "markdown",
      "metadata": {
        "id": "view-in-github",
        "colab_type": "text"
      },
      "source": [
        "<a href=\"https://colab.research.google.com/github/kylewinfree/inf502-fall2025/blob/main/rest/wx.ipynb\" target=\"_parent\"><img src=\"https://colab.research.google.com/assets/colab-badge.svg\" alt=\"Open In Colab\"/></a>"
      ]
    },
    {
      "cell_type": "code",
      "execution_count": 2,
      "metadata": {
        "id": "-cgazo7if8dy"
      },
      "outputs": [],
      "source": [
        "import requests\n",
        "import json\n",
        "from datetime import datetime"
      ]
    },
    {
      "cell_type": "markdown",
      "source": [
        "https://www.weather.gov/documentation/services-web-api"
      ],
      "metadata": {
        "id": "atCMaGIKgjdP"
      }
    },
    {
      "cell_type": "code",
      "source": [
        "# https://www.weather.gov/documentation/services-web-api\n",
        "\n",
        "response = requests.get(\"https://api.weather.gov/points/35.00,-111.00\")\n",
        "json_response = response.json()\n",
        "formatted_json = json.dumps(json_response, sort_keys=False, indent=2)\n",
        "\n",
        "print(formatted_json)"
      ],
      "metadata": {
        "colab": {
          "base_uri": "https://localhost:8080/"
        },
        "id": "wd1MG-2JgkJ1",
        "outputId": "70201aa7-debd-454c-d0d1-09994e5847e4"
      },
      "execution_count": 5,
      "outputs": [
        {
          "output_type": "stream",
          "name": "stdout",
          "text": [
            "{\n",
            "  \"@context\": [\n",
            "    \"https://geojson.org/geojson-ld/geojson-context.jsonld\",\n",
            "    {\n",
            "      \"@version\": \"1.1\",\n",
            "      \"wx\": \"https://api.weather.gov/ontology#\",\n",
            "      \"s\": \"https://schema.org/\",\n",
            "      \"geo\": \"http://www.opengis.net/ont/geosparql#\",\n",
            "      \"unit\": \"http://codes.wmo.int/common/unit/\",\n",
            "      \"@vocab\": \"https://api.weather.gov/ontology#\",\n",
            "      \"geometry\": {\n",
            "        \"@id\": \"s:GeoCoordinates\",\n",
            "        \"@type\": \"geo:wktLiteral\"\n",
            "      },\n",
            "      \"city\": \"s:addressLocality\",\n",
            "      \"state\": \"s:addressRegion\",\n",
            "      \"distance\": {\n",
            "        \"@id\": \"s:Distance\",\n",
            "        \"@type\": \"s:QuantitativeValue\"\n",
            "      },\n",
            "      \"bearing\": {\n",
            "        \"@type\": \"s:QuantitativeValue\"\n",
            "      },\n",
            "      \"value\": {\n",
            "        \"@id\": \"s:value\"\n",
            "      },\n",
            "      \"unitCode\": {\n",
            "        \"@id\": \"s:unitCode\",\n",
            "        \"@type\": \"@id\"\n",
            "      },\n",
            "      \"forecastOffice\": {\n",
            "        \"@type\": \"@id\"\n",
            "      },\n",
            "      \"forecastGridData\": {\n",
            "        \"@type\": \"@id\"\n",
            "      },\n",
            "      \"publicZone\": {\n",
            "        \"@type\": \"@id\"\n",
            "      },\n",
            "      \"county\": {\n",
            "        \"@type\": \"@id\"\n",
            "      }\n",
            "    }\n",
            "  ],\n",
            "  \"id\": \"https://api.weather.gov/points/35,-111\",\n",
            "  \"type\": \"Feature\",\n",
            "  \"geometry\": {\n",
            "    \"type\": \"Point\",\n",
            "    \"coordinates\": [\n",
            "      -111,\n",
            "      35\n",
            "    ]\n",
            "  },\n",
            "  \"properties\": {\n",
            "    \"@id\": \"https://api.weather.gov/points/35,-111\",\n",
            "    \"@type\": \"wx:Point\",\n",
            "    \"cwa\": \"FGZ\",\n",
            "    \"forecastOffice\": \"https://api.weather.gov/offices/FGZ\",\n",
            "    \"gridId\": \"FGZ\",\n",
            "    \"gridX\": 96,\n",
            "    \"gridY\": 77,\n",
            "    \"forecast\": \"https://api.weather.gov/gridpoints/FGZ/96,77/forecast\",\n",
            "    \"forecastHourly\": \"https://api.weather.gov/gridpoints/FGZ/96,77/forecast/hourly\",\n",
            "    \"forecastGridData\": \"https://api.weather.gov/gridpoints/FGZ/96,77\",\n",
            "    \"observationStations\": \"https://api.weather.gov/gridpoints/FGZ/96,77/stations\",\n",
            "    \"relativeLocation\": {\n",
            "      \"type\": \"Feature\",\n",
            "      \"geometry\": {\n",
            "        \"type\": \"Point\",\n",
            "        \"coordinates\": [\n",
            "          -110.710378,\n",
            "          35.025362\n",
            "        ]\n",
            "      },\n",
            "      \"properties\": {\n",
            "        \"city\": \"Winslow\",\n",
            "        \"state\": \"AZ\",\n",
            "        \"distance\": {\n",
            "          \"unitCode\": \"wmoUnit:m\",\n",
            "          \"value\": 26526.652475549\n",
            "        },\n",
            "        \"bearing\": {\n",
            "          \"unitCode\": \"wmoUnit:degree_(angle)\",\n",
            "          \"value\": 263\n",
            "        }\n",
            "      }\n",
            "    },\n",
            "    \"forecastZone\": \"https://api.weather.gov/zones/forecast/AZZ012\",\n",
            "    \"county\": \"https://api.weather.gov/zones/county/AZC005\",\n",
            "    \"fireWeatherZone\": \"https://api.weather.gov/zones/fire/AZZ112\",\n",
            "    \"timeZone\": \"America/Phoenix\",\n",
            "    \"radarStation\": \"KFSX\"\n",
            "  }\n",
            "}\n"
          ]
        }
      ]
    }
  ]
}