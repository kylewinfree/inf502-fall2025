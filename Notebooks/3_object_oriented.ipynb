{
 "cells": [
  {
   "cell_type": "markdown",
   "metadata": {
    "id": "view-in-github",
    "colab_type": "text"
   },
   "source": "<a href=\"https://colab.research.google.com/github/kylewinfree/inf502-fall2025/blob/main/Notebooks/3_object_oriented.ipynb\" target=\"_parent\"><img src=\"https://colab.research.google.com/assets/colab-badge.svg\" alt=\"Open In Colab\"/></a>"
  },
  {
   "cell_type": "markdown",
   "metadata": {
    "id": "jqa-x09HOv6Z"
   },
   "source": [
    "# Object Orientation in Python\n",
    "\n",
    "This notebook will cover the object-oriented paradigm based on three main topics:\n",
    "* Object orientation basics\n",
    "* Implementing OO in Python\n",
    "* Inheritance"
   ]
  },
  {
   "cell_type": "markdown",
   "metadata": {
    "id": "is9IXjRHOv6a"
   },
   "source": [
    "## Object orientation basics\n",
    "Object-Oriented (OO) is a programming paradigm in which different \"components\" of your software are modeled based on real-world objects. An object is anything that has some characteristics and can perform a function.\n",
    "\n",
    "OO basically relies in abstraction concept, by defining **classes** of **objects** in the software level, which can be represented by the object's data (attributes) and \"code\" (actions they can perform)\n",
    "\n",
    "A **class** can be defined as a \"blueprint\" of objects\n",
    "\n",
    "Used to make the code easier to maintain, by modularizing and creating better representations of real things.\n",
    "\n",
    "Dummy example used to explain OO:\n",
    "\n",
    "![oop_1.png](https://raw.githubusercontent.com/chavesana/INF502-Fall22/main/notebooks/oop_1.png)\n",
    "![oop_2.png](https://raw.githubusercontent.com/chavesana/INF502-Fall22/main/notebooks/oop_2.png)\n",
    "\n",
    "\n",
    "Other example of class would be **Person**, which would have different attributes, like: birth_date, gender, height, weight, city_of_birth, hair_color. a **Person** can also perform some actions like: exercise (which may change their weight), sleep, work, etc.\n",
    "\n",
    "Defining how a real-world object may be represented in a software requires **abstraction**. Abstraction is the process of understanding which characteristics (attributes) and behaviors (methods) are relevant to the context and which ones can be ignored. For example, if our program concerns about a person's health, then perhaps their sleep time and exercises are relevant. However, if the program concerns about their financial health, then the sleep time and exercises can be ignored, given space to expenditures and income instead.\n",
    "\n",
    "Let's brainstorm a bit, and think about a real-world thing that we all may know...\n"
   ]
  },
  {
   "cell_type": "markdown",
   "metadata": {
    "id": "eIrZdo_TOv6b"
   },
   "source": [
    "## OO in Python\n",
    "Now we will explore how to deal with Object Orientation in Python.\n",
    "\n",
    "As a first step, we will use a well-known example when learning OO:\n",
    "* designing a class to define a **point** in a plane\n",
    "* what are the clear attributes that a point would have?\n",
    "\n",
    "See below how to create a class that abstract points, with attributes representing its position.\n",
    "\n",
    "_**Best practices:** class names should start with a capital letter._"
   ]
  },
  {
   "cell_type": "code",
   "execution_count": null,
   "metadata": {
    "id": "jYIAx3FFOv6b"
   },
   "outputs": [],
   "source": [
    "class Point:\n",
    "    x = 0\n",
    "    y = 0"
   ]
  },
  {
   "cell_type": "markdown",
   "metadata": {
    "id": "1wwFWJ3uOv6b"
   },
   "source": [
    "**Great!** \n",
    "\n",
    "We've just created a class named Point! This class is a template to create as many points as we need. But this is just our \"blueprint\", no points has been created yet. To actually create points we need to **instantiate** objects out of this **class**.\n",
    "\n",
    "To instantiate a class (i.e., to create an object using a particular template), we need to call the class **constructor**. By default, we can call the constructor by invoking the classes name, in this case, ```Point()```, with no arguments."
   ]
  },
  {
   "cell_type": "code",
   "execution_count": null,
   "metadata": {
    "id": "AOib5QHOOv6c",
    "outputId": "fdcefdc7-9d20-4ff9-ef79-31f32d2d6f5a"
   },
   "outputs": [
    {
     "name": "stdout",
     "output_type": "stream",
     "text": [
      "<class '__main__.Point'>\n"
     ]
    }
   ],
   "source": [
    "#let's pretend this is our main program\n",
    "point1 = Point()   #create a Point object and store in point1 variable\n",
    "point2 = Point()   #create another Point object and store in the point2 variable\n",
    "\n",
    "print(type(point1))  #check the type of the variable point1"
   ]
  },
  {
   "cell_type": "markdown",
   "metadata": {
    "id": "lHUNk88zOv6c"
   },
   "source": [
    "Now we have **two points**, created based on our class Point. When we do ```point1 = Point()```, we are creating a variable called point1, which is a variable typed as a Point (as per the print statement).\n",
    "\n",
    "### Attributes\n",
    "\n",
    "So far, our class template only provides attributes to the point. So, what we can do is change the attributes of each point... (although, I anticipate that this is not a good practice, because we are messing up with the **encapsulation** of the objects)"
   ]
  },
  {
   "cell_type": "code",
   "execution_count": null,
   "metadata": {
    "id": "QmjDyBYWOv6d",
    "outputId": "4894d65d-2ddf-4251-bb8c-39471aac92d1"
   },
   "outputs": [
    {
     "name": "stdout",
     "output_type": "stream",
     "text": [
      "Point 1 position is: 0.00, 0.00\n",
      "Point 2 position is: 0.00, 0.00\n",
      "\n",
      "\n",
      "Point 1 position is: 10.40, 2.20\n",
      "Point 2 position is: 0.00, -4.30\n"
     ]
    }
   ],
   "source": [
    "#the newly constructed points have the x and y attributes set to zero\n",
    "print(\"Point 1 position is: %0.2f, %0.2f\\nPoint 2 position is: %0.2f, %0.2f\\n\\n\"%(point1.x, point1.y, point2.x, point2.y))\n",
    "\n",
    "point1.x = 10.4\n",
    "point1.y = 2.2\n",
    "point2.x = 0\n",
    "point2.y = -4.3\n",
    "\n",
    "#after we assign new values to the attributes, we can observe the changes...\n",
    "print(\"Point 1 position is: %0.2f, %0.2f\\nPoint 2 position is: %0.2f, %0.2f\"%(point1.x, point1.y, point2.x, point2.y))"
   ]
  },
  {
   "cell_type": "markdown",
   "metadata": {
    "id": "vpVKeOKSOv6d"
   },
   "source": [
    "#### The encapsulation problem\n",
    "\n",
    "In OO, encapsulation is a concept that define rules for accessing class properties (attributes and methods), preventing data from direct manipulation (as we just did in the previous chunk!). To make an attribute or method private, we add a double underscore symbol (`__`) as a prefix of the identifier's name. See the example:"
   ]
  },
  {
   "cell_type": "code",
   "execution_count": null,
   "metadata": {
    "id": "lnEVQHZnOv6d"
   },
   "outputs": [],
   "source": [
    "class Point:\n",
    "    \n",
    "    #explicitly defining a constructor to the class\n",
    "    def __init__(self):  #self indicates this Point object\n",
    "        self.__x = 0   #notice the double underscore, which makes the x and y attributes private\n",
    "        self.__y = 0   #private attributes cannot be accessed outside the class\n",
    "    \n",
    "    def printAttributes(self):\n",
    "        print(\"x =\", self.__x, \"\\ny =\", self.__y)"
   ]
  },
  {
   "cell_type": "code",
   "execution_count": null,
   "metadata": {
    "id": "Dz7Dq65BOv6d",
    "outputId": "6ff3b9e7-c73c-4dcd-9a80-1aeda98690f0"
   },
   "outputs": [
    {
     "name": "stdout",
     "output_type": "stream",
     "text": [
      "x = 0 \n",
      "y = 0\n"
     ]
    }
   ],
   "source": [
    "point1 = Point() #creates an object\n",
    "point1.__x = 10.4   #trying to change the x attribute in point1 object\n",
    "point1.printAttributes() #Notice that the x did not change with the previous line"
   ]
  },
  {
   "cell_type": "markdown",
   "metadata": {
    "id": "8qyWT3_QOv6e"
   },
   "source": [
    "When you want to allow external code to read or change particular attributes, the class needs to provide a public method to do so. These methods are usually named `get` (for reading) and `set` (for updating). See how the class `Point` would be with getters and setters for both `x` and `y` attributes:"
   ]
  },
  {
   "cell_type": "code",
   "execution_count": null,
   "metadata": {
    "id": "UqEXQreeOv6e"
   },
   "outputs": [],
   "source": [
    "class Point:\n",
    "    \n",
    "    #explicitly defining a constructor to the class\n",
    "    def __init__(self):  #self indicates this Point object\n",
    "        self.__x = 0   #notice the double underscore, which makes the x and y attributes private\n",
    "        self.__y = 0   #private attributes cannot be accessed outside the class\n",
    "    \n",
    "    def printAttributes(self):\n",
    "        print(\"x =\", self.__x, \"\\ny =\", self.__y)\n",
    "    \n",
    "    def getX(self):\n",
    "        return self.__x\n",
    "    def getY(self):\n",
    "        return self.__y\n",
    "    \n",
    "    def setX(self, newX):\n",
    "        self.__x = newX\n",
    "    def setY(self, newY):\n",
    "        self.__y = newY"
   ]
  },
  {
   "cell_type": "code",
   "execution_count": null,
   "metadata": {
    "id": "14ZtLMsROv6e",
    "outputId": "8b364f61-23f5-4e5b-c85b-7b27125038e2"
   },
   "outputs": [
    {
     "name": "stdout",
     "output_type": "stream",
     "text": [
      "x = 10.4 \n",
      "y = 0\n"
     ]
    }
   ],
   "source": [
    "point1 = Point()    #creates an object\n",
    "point1.setX(10.4)   #now we can update x by calling the setX function\n",
    "point1.printAttributes()"
   ]
  },
  {
   "cell_type": "markdown",
   "metadata": {
    "id": "thHjLp4kOv6e"
   },
   "source": [
    "### Methods\n",
    "We just used methods to create setters and getters, but what are methods?\n",
    "\n",
    "Methods are the actions that map the behavior of our objects. In Python, the way to declare these actions is through `def`, similarly to the way we define functions. Actually, methods are functions that apply to an object. Thus, when you call a method, unlike a function, you must specify the object to which the method apply by adding the name of the object and a dot (`.`). For example, in the following method call\n",
    "\n",
    "```\n",
    "point1.setX()\n",
    "```\n",
    "the method ```setX()``` will be applied to the object ```point1``` (and not to other points we may have declared).\n",
    "\n",
    "See the example of adding a `translate` method to our Point class. This method translates our points by a given `x, y` units in the plane."
   ]
  },
  {
   "cell_type": "code",
   "execution_count": null,
   "metadata": {
    "id": "XPGNBdOpOv6e"
   },
   "outputs": [],
   "source": [
    "class Point:  \n",
    "    def __init__(self):  #self indicates this Point object\n",
    "        self.__x = 0   #notice the double underscore, which makes the x and y attributes private\n",
    "        self.__y = 0   #private attributes cannot be accessed outside the class\n",
    "    \n",
    "    def printAttributes(self):\n",
    "        print(\"x =\", self.__x, \"\\ny =\", self.__y)\n",
    "    \n",
    "    def translate(self, dx, dy):\n",
    "        self.__x += dx    #syntax tips: same as self.x = self.x + dx\n",
    "        self.__y += dy\n",
    "    \n",
    "    def getX(self):\n",
    "        return self.__x\n",
    "    def getY(self):\n",
    "        return self.__y\n",
    "    \n",
    "    def setX(self, newX):\n",
    "        self.__x = newX\n",
    "    def setY(self, newY):\n",
    "        self.__y = newY"
   ]
  },
  {
   "cell_type": "code",
   "execution_count": null,
   "metadata": {
    "id": "-aCXBCcIOv6e",
    "outputId": "51b947ba-dcd7-4ad3-afd9-e453630fb875"
   },
   "outputs": [
    {
     "name": "stdout",
     "output_type": "stream",
     "text": [
      "x = 10.4 \n",
      "y = 2.2\n",
      "\n",
      "x = 12.4 \n",
      "y = 4.2\n"
     ]
    }
   ],
   "source": [
    "point1 = Point()\n",
    "point1.setX(10.4)\n",
    "point1.setY(2.2)\n",
    "point1.printAttributes()\n",
    "print() #break a line\n",
    "\n",
    "point1.translate(2,2)\n",
    "point1.printAttributes()"
   ]
  },
  {
   "cell_type": "markdown",
   "metadata": {
    "id": "jkqV1HEWOv6f"
   },
   "source": [
    "Let's see what we've done there:\n",
    "* Created our method, that receives *three* parameters: ``self``, ``dx``, and ``dy``. While `dx` and `dy` are the units that I want to translate the points, `self` is a *implicit parameter* representing the object we are dealing with. We do not need to provide any value to this parameter, it is used internally. **self must be the first parameter of any method.**\n",
    "* Then, we change `x` and `y` attributes that belong to the `self` object (which is a self reference, saying: \"I want to change MY values of x and y\""
   ]
  },
  {
   "cell_type": "markdown",
   "metadata": {
    "id": "NBZ3YykJOv6f"
   },
   "source": [
    "#### Constructors\n",
    "\n",
    "When you build an object, a specific method called constructor is called.\n",
    "\n",
    "In previous examples, whenever we called `point1 = Point()`, a constructor with no parameters was called (which is a default). We can define which kinds of constructors we want to make available, with or without parameters.\n",
    "\n",
    "In Python, this method is named `__init__`. We created an `__init__` constructor for the `Point` class, but we may want to create options of constructors with parameters. \n",
    "\n",
    "For example, if we want to instantiate our points providing its position, we would define a `__init__` method like this:"
   ]
  },
  {
   "cell_type": "code",
   "execution_count": null,
   "metadata": {
    "id": "0W24P8bIOv6f"
   },
   "outputs": [],
   "source": [
    "class Point:\n",
    "    \n",
    "    def __init__(self, x, y):\n",
    "        self.__x = x\n",
    "        self.__y = y\n",
    "    \n",
    "    def printAttributes(self):\n",
    "        print(\"x =\", self.__x, \"\\ny =\", self.__y)\n",
    "    \n",
    "    def translate(self, dx, dy):\n",
    "        self.__x += dx\n",
    "        self.__y += dy\n",
    "    \n",
    "    def getX(self):\n",
    "        return self.__x\n",
    "    def getY(self):\n",
    "        return self.__y\n",
    "    \n",
    "    def setX(self, newX):\n",
    "        self.__x = newX\n",
    "    def setY(self, newY):\n",
    "        self.__y = newY"
   ]
  },
  {
   "cell_type": "code",
   "execution_count": null,
   "metadata": {
    "id": "LhSSW8U4Ov6f",
    "outputId": "79094d57-e3bf-4208-85b8-3b7eee466cf0"
   },
   "outputs": [
    {
     "name": "stdout",
     "output_type": "stream",
     "text": [
      "x = 2 \n",
      "y = 3\n"
     ]
    }
   ],
   "source": [
    "point1 = Point(2, 3)   #set initial values to the attributes\n",
    "#point2 = Point()      #this line will return an error because we replaced the default constructor\n",
    "point1.printAttributes()"
   ]
  },
  {
   "cell_type": "markdown",
   "metadata": {
    "id": "EXKsyLMNOv6f"
   },
   "source": [
    "We can allow both calls though! Actually, we can have as many construct calls as we need, as long as they have a different _signature_ (i.e., a different set of parameters). To allow that, we can use default values. So, if we want to enable someone calling \n",
    "\n",
    "`point1 = Point()` AND `point2 = Point(2,3)` and both work is:"
   ]
  },
  {
   "cell_type": "code",
   "execution_count": null,
   "metadata": {
    "id": "ft8A7VYQOv6g"
   },
   "outputs": [],
   "source": [
    "class Point:\n",
    "        \n",
    "    def __init__(self, x=0, y=0):\n",
    "        self.__x = x   \n",
    "        self.__y = y\n",
    "    \n",
    "    def printAttributes(self):\n",
    "        print(\"x =\", self.__x, \"\\ny =\", self.__y)\n",
    "    \n",
    "    def translate(self, dx, dy):\n",
    "        self.__x += dx    #syntax tips: same as self.x = self.x + dx\n",
    "        self.__y += dy\n",
    "    \n",
    "    def getX(self):\n",
    "        return self.__x\n",
    "    def getY(self):\n",
    "        return self.__y\n",
    "    \n",
    "    def setX(self, newX):\n",
    "        self.__x = newX\n",
    "    def setY(self, newY):\n",
    "        self.__y = newY"
   ]
  },
  {
   "cell_type": "code",
   "execution_count": null,
   "metadata": {
    "id": "PO9H6fkaOv6g",
    "outputId": "1a9769e0-4952-4c3f-a533-2427097835cb"
   },
   "outputs": [
    {
     "name": "stdout",
     "output_type": "stream",
     "text": [
      "x = 2 \n",
      "y = 3\n",
      "\n",
      "x = 0 \n",
      "y = 0\n"
     ]
    }
   ],
   "source": [
    "point1 = Point(2, 3)   #set initial values to the attributes\n",
    "point2 = Point()       #now both constructors work\n",
    "point1.printAttributes()\n",
    "print()\n",
    "point2.printAttributes()"
   ]
  },
  {
   "cell_type": "markdown",
   "metadata": {
    "id": "BBUEgr3YOv6g"
   },
   "source": [
    "#### Defining the way the object is print\n",
    "We can also define what would be an output when someone wants to print our object, like (`print(point1)`). What would happen now??"
   ]
  },
  {
   "cell_type": "code",
   "execution_count": null,
   "metadata": {
    "id": "PF8Y9CmPOv6g",
    "outputId": "4b71f2c8-b0dc-4ae3-a4c6-8670240dcb4b"
   },
   "outputs": [
    {
     "name": "stdout",
     "output_type": "stream",
     "text": [
      "<__main__.Point object at 0x000002DFE521AEC0>\n"
     ]
    }
   ],
   "source": [
    "point1 = Point(2,4)\n",
    "print(point1)"
   ]
  },
  {
   "cell_type": "markdown",
   "metadata": {
    "id": "Z-_b-sUYOv6g"
   },
   "source": [
    "*Not a good expression of what this point actually is, right?* We can make it better by defining a method called `__str__`."
   ]
  },
  {
   "cell_type": "code",
   "execution_count": null,
   "metadata": {
    "id": "VBEnfIRIOv6g",
    "outputId": "b4fc371b-ec96-4bcd-f833-299661aa5905"
   },
   "outputs": [
    {
     "name": "stdout",
     "output_type": "stream",
     "text": [
      "<class '__main__.Point'>\n",
      "(2, 4)\n"
     ]
    }
   ],
   "source": [
    "class Point:\n",
    "    def __init__(self, x, y):\n",
    "        self.__x = x\n",
    "        self.__y = y\n",
    "        \n",
    "    # FOCUS HERE: \n",
    "    def __str__(self):\n",
    "        return(\"(\" + str(self.__x) + \", \" + str(self.__y) + \")\")\n",
    "    \n",
    "# let's see how it goes now\n",
    "point1 = Point(2,4)\n",
    "print(type(point1))   #it still prints the type as the Point class\n",
    "print(point1)         #but when you print the object itself, it shows a more appropriate result"
   ]
  },
  {
   "cell_type": "markdown",
   "metadata": {
    "id": "9g96WROZOv6h"
   },
   "source": [
    "#### See the complete code below"
   ]
  },
  {
   "cell_type": "code",
   "execution_count": null,
   "metadata": {
    "id": "ERtD_7ruOv6h"
   },
   "outputs": [],
   "source": [
    "class Point:\n",
    "        \n",
    "    def __init__(self, x=0, y=0):\n",
    "        self.__x = x   \n",
    "        self.__y = y\n",
    "    \n",
    "    def __str__(self):\n",
    "        return(\"(\" + str(self.__x) + \", \" + str(self.__y) + \")\")\n",
    "    \n",
    "    def printAttributes(self):\n",
    "        print(\"x =\", self.__x, \"\\ny =\", self.__y)\n",
    "        \n",
    "    def translate(self, dx, dy):\n",
    "        self.__x += dx    #syntax tips: same as self.x = self.x + dx\n",
    "        self.__y += dy\n",
    "    \n",
    "    def getX(self):\n",
    "        return self.__x\n",
    "    def getY(self):\n",
    "        return self.__y\n",
    "    \n",
    "    def setX(self, newX):\n",
    "        self.__x = newX\n",
    "    def setY(self, newY):\n",
    "        self.__y = newY\n"
   ]
  },
  {
   "cell_type": "markdown",
   "metadata": {
    "id": "Ie9PmjZmOv6h"
   },
   "source": [
    "## Inheritance\n",
    "\n",
    "Inheritance enable us to define a class that takes all the characteristics and functions from a parent class. And we can extend the parent or change specific ways that an action is performed. This allows code reusability, ultimately reducing replication and integrity loss.\n",
    "\n",
    "Look at this simple example built upon our `Point` class:\n"
   ]
  },
  {
   "cell_type": "code",
   "execution_count": null,
   "metadata": {
    "id": "gmAiL5baOv6h",
    "outputId": "4408f05d-bd1d-41a8-f0c2-940f0e33992d"
   },
   "outputs": [
    {
     "name": "stdout",
     "output_type": "stream",
     "text": [
      "(3, 4)\n",
      "(4, 5)\n"
     ]
    }
   ],
   "source": [
    "class Point3D(Point):\n",
    "    def __init__(self, x, y, z):\n",
    "        Point.setX(self, x)\n",
    "        Point.setY(self, y)\n",
    "        self.__z = z\n",
    "        \n",
    "    def translate(self, dx, dy, dz):\n",
    "        Point.translate(self, dx, dy)\n",
    "        self.__z += dz\n",
    "                \n",
    "point1 = Point3D(3,4,5)\n",
    "print(point1)\n",
    "point1.translate(1, 1, 1)\n",
    "print(point1)\n"
   ]
  },
  {
   "cell_type": "markdown",
   "metadata": {
    "id": "w0d_WOlJOv6h"
   },
   "source": [
    "This is what we have here:\n",
    "    * we define the class `class Point3D(Point)`: this means that `Point` is the **parent** class for Point3D. Everything inside `Point` is part of `Point3D` (we read this as _class Point3D IS A Point class_;\n",
    "    * we can change any attribute and call any function of `Point` when we create a `Point3D` object to attend specific characteristics or behaviors of `Point3D`.\n",
    "    * we can call any parent function from the child class by replacing the `self.` by the name of the parent class, for example, `Point.translate(...)`\n",
    "    \n",
    "One issue to deal with:\n",
    "    * if there is a different behavior for some action (e.g.: `translate(self)`), we need to **overwrite** the function:"
   ]
  },
  {
   "cell_type": "code",
   "execution_count": null,
   "metadata": {
    "id": "S0fne5vxOv6h",
    "outputId": "06a14238-2c87-49ba-b3c5-9b9d286ce3b8"
   },
   "outputs": [
    {
     "name": "stdout",
     "output_type": "stream",
     "text": [
      "x = 3 \n",
      "y = 4\n",
      "z = 5\n",
      "(3, 4, 5)\n",
      "\n",
      "x = 0 \n",
      "y = 0\n",
      "z = 0\n",
      "(0, 0, 0)\n"
     ]
    }
   ],
   "source": [
    "class Point3D(Point):\n",
    "    \n",
    "    def __init__(self, x=0, y=0, z=0):\n",
    "        Point.__init__(self, x, y) # we can use the constructor of point to initialize shared attributes\n",
    "        self.__z = z             # then we deal with specific attributes inside the child class\n",
    "\n",
    "    def translate(self, dx, dy, dz):\n",
    "        Point.translate(self, __dx, __dy)\n",
    "        self.__z += dz\n",
    "    \n",
    "    def printAttributes(self):\n",
    "        Point.printAttributes(self)\n",
    "        print(\"z =\", self.__z)\n",
    "        \n",
    "    def __str__(self):\n",
    "        #notice that we have to call the attributes from parents class to use them\n",
    "        return(\"(\" + str(Point.getX(self)) + \", \" + str(Point.getY(self)) + \", \" + str(self.__z) + \")\")\n",
    "    \n",
    "point1 = Point3D(3,4,5)\n",
    "point1.printAttributes()  #notice that we did not rewrite the printAttributes(), \n",
    "print(point1)\n",
    "\n",
    "print()\n",
    "\n",
    "point2 = Point3D()\n",
    "point2.printAttributes()\n",
    "print(point2)"
   ]
  }
 ],
 "metadata": {
  "kernelspec": {
   "display_name": "Python 3 (ipykernel)",
   "language": "python",
   "name": "python3"
  },
  "language_info": {
   "codemirror_mode": {
    "name": "ipython",
    "version": 3
   },
   "file_extension": ".py",
   "mimetype": "text/x-python",
   "name": "python",
   "nbconvert_exporter": "python",
   "pygments_lexer": "ipython3",
   "version": "3.10.6"
  },
  "colab": {
   "provenance": [],
   "collapsed_sections": [],
   "include_colab_link": true
  }
 },
 "nbformat": 4,
 "nbformat_minor": 0
}
