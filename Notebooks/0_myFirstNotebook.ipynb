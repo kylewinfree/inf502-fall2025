{
  "cells": [
    {
      "cell_type": "markdown",
      "metadata": {
        "id": "view-in-github",
        "colab_type": "text"
      },
      "source": [
        "<a href=\"https://colab.research.google.com/github/kylewinfree/inf502-fall2025/blob/main/Notebooks/0_myFirstNotebook.ipynb\" target=\"_parent\"><img src=\"https://colab.research.google.com/assets/colab-badge.svg\" alt=\"Open In Colab\"/></a>"
      ]
    },
    {
      "cell_type": "markdown",
      "metadata": {
        "tags": [],
        "id": "O1erkwbR_fQf"
      },
      "source": [
        "### First class of Jupyter\n",
        "\n",
        "This is just an example of a Jupyter Markdown.\n",
        "\n",
        "In this first chunk of code, we are creating a list called ```list_of_numbers``` with 5 numeric values.\n",
        "\n",
        "Then, the function ```len``` is returning and printing the length of the list. Note that after running the code, the outcome shows up below the code chunk."
      ]
    },
    {
      "cell_type": "code",
      "execution_count": null,
      "metadata": {
        "tags": [],
        "id": "KfQMNakO_fQh",
        "outputId": "321aed7b-8efa-4d51-f064-90dc465f67b0"
      },
      "outputs": [
        {
          "name": "stdout",
          "output_type": "stream",
          "text": [
            "5\n"
          ]
        }
      ],
      "source": [
        "list_of_numbers = [1, 2, 3, 4, 5]\n",
        "print(len(list_of_numbers))"
      ]
    },
    {
      "cell_type": "markdown",
      "metadata": {
        "id": "gaes0lds_fQi"
      },
      "source": [
        "## Intercalating markdown with code\n",
        "\n",
        "(Intercalating typically refers to the process of inserting one thing between others.)\n",
        "\n",
        "The markdown file allow us to have code and formatted text, so the code can be followed with explanation, visualization and other relevant information.\n",
        "\n",
        "Notice that we can use variables from previous chunks of code in the following chunks."
      ]
    },
    {
      "cell_type": "code",
      "execution_count": null,
      "metadata": {
        "id": "QubRTZBI_fQj",
        "outputId": "dde6e368-04b8-4589-f01c-16f3838965e4"
      },
      "outputs": [
        {
          "name": "stdout",
          "output_type": "stream",
          "text": [
            "44\n",
            "1\n"
          ]
        }
      ],
      "source": [
        "print(list_of_numbers[3])\n",
        "print(list_of_numbers[0])"
      ]
    },
    {
      "cell_type": "code",
      "execution_count": null,
      "metadata": {
        "id": "YMdttZ6m_fQj",
        "outputId": "9a2184a8-d860-469f-ad36-38099391a4d3"
      },
      "outputs": [
        {
          "name": "stdout",
          "output_type": "stream",
          "text": [
            "1\n",
            "2\n",
            "3\n",
            "44\n",
            "5\n"
          ]
        }
      ],
      "source": [
        "import time\n",
        "\n",
        "for element in list_of_numbers: #this line is using the list_of_numbers created in a previous chunk of code.\n",
        "    print(element)\n",
        "    time.sleep(2)  #this time.sleep() function delays the execution time by 2 seconds."
      ]
    },
    {
      "cell_type": "markdown",
      "metadata": {
        "id": "nJ4kMyb4_fQj"
      },
      "source": [
        "## Defining functions\n",
        "\n",
        "In the following chunks, we define two functions ```print_main_window()``` and ```list_the_numbers()``` but we did not called them. In this case, the chunk will have no outputs because nothing was requested to be printed."
      ]
    },
    {
      "cell_type": "code",
      "execution_count": null,
      "metadata": {
        "id": "5dEZKvWv_fQk"
      },
      "outputs": [],
      "source": [
        "def print_main_window():\n",
        "    os.system('clear')\n",
        "    print(\"\\t********************************************\")\n",
        "    print(\"\\t***  Manipulating a List! There we go     **\")\n",
        "    print(\"\\t********************************************\")\n",
        "    print(\"\\n\\n\\n\") #3 line breaks\n",
        "    print(\"Choose an option as follows: \")\n",
        "    print(\"[1] Add a number to the list\")\n",
        "    print(\"[2] List the numbers\")\n",
        "    print(\"[3] Clear the list\")\n",
        "    print(\"[4] EXIT\")"
      ]
    },
    {
      "cell_type": "code",
      "execution_count": null,
      "metadata": {
        "id": "_3rnkJ9C_fQl"
      },
      "outputs": [],
      "source": [
        "def list_the_numbers (list1):\n",
        "    print(\"This list contains \", len(list1), \" elements, as follows:\")\n",
        "    for element in list1:\n",
        "        print (element)"
      ]
    },
    {
      "cell_type": "markdown",
      "metadata": {
        "id": "eKhrFGsa_fQl"
      },
      "source": [
        "Now we will write a code that call those functions. The code will use the ```print_main_window()``` function to print an option menu and then it will wait for an user input to select one of the available option.\n",
        "\n",
        "After reading the option, the program selects the correct action, runs it and show the appropriate next output to the user.\n",
        "\n",
        "The interactive output will appear after this chunk of code! Try it out!"
      ]
    },
    {
      "cell_type": "code",
      "metadata": {
        "id": "77H1mNg2_fQm",
        "jupyter": {
          "is_executing": true
        }
      },
      "source": [
        "import os\n",
        "\n",
        "list_numbers = []\n",
        "\n",
        "while (True):\n",
        "    print_main_window()\n",
        "    option = int(input(\"Your option: \"))\n",
        "    if (option == 1):\n",
        "        number = int(input(\"Type the number you want to add: \"))\n",
        "        list_numbers.append(number)\n",
        "        print(number, \" added to your list\")\n",
        "    elif (option == 2):\n",
        "        list_the_numbers(list_numbers)\n",
        "    elif (option == 3):\n",
        "        list_numbers.clear()\n",
        "        print(\"The list is now empty!\")\n",
        "    elif (option == 4):\n",
        "        print(\"Thanks for using our application\")\n",
        "        break\n",
        "    else:\n",
        "        print (\"Invalid option. \")"
      ],
      "outputs": [],
      "execution_count": null
    },
    {
      "cell_type": "code",
      "execution_count": null,
      "metadata": {
        "id": "ZhWxPHwD_fQm"
      },
      "outputs": [],
      "source": []
    }
  ],
  "metadata": {
    "kernelspec": {
      "display_name": "Python 3 (ipykernel)",
      "language": "python",
      "name": "python3"
    },
    "language_info": {
      "codemirror_mode": {
        "name": "ipython",
        "version": 3
      },
      "file_extension": ".py",
      "mimetype": "text/x-python",
      "name": "python",
      "nbconvert_exporter": "python",
      "pygments_lexer": "ipython3",
      "version": "3.10.6"
    },
    "colab": {
      "provenance": [],
      "include_colab_link": true
    }
  },
  "nbformat": 4,
  "nbformat_minor": 0
}